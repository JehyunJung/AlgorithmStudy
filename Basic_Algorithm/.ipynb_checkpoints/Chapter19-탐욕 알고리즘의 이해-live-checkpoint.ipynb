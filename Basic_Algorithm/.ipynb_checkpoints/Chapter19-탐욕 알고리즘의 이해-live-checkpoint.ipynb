{
 "cells": [
  {
   "cell_type": "markdown",
   "metadata": {},
   "source": [
    "## 탐욕 알고리즘의 이해"
   ]
  },
  {
   "cell_type": "markdown",
   "metadata": {},
   "source": [
    "### 1. 탐욕 알고리즘 이란?\n",
    "- Greedy algorithm 또는 탐욕 알고리즘 이라고 불리움\n",
    "- 최적의 해에 가까운 값을 구하기 위해 사용됨\n",
    "- 여러 경우 중 하나를 결정해야할 때마다, **매순간 최적이라고 생각되는 경우를 선택**하는 방식으로 진행해서, 최종적인 값을 구하는 방식"
   ]
  },
  {
   "cell_type": "markdown",
   "metadata": {},
   "source": [
    "### 2. 탐욕 알고리즘 예\n",
    "### 문제1: 동전 문제\n",
    "  - 지불해야 하는 값이 4720원 일 때 1원 50원 100원, 500원 동전으로 동전의 수가 가장 적게 지불하시오.\n",
    "    - 가장 큰 동전부터 최대한 지불해야 하는 값을 채우는 방식으로 구현 가능\n",
    "    - 탐욕 알고리즘으로 매순간 최적이라고 생각되는 경우를 선택하면 됨"
   ]
  },
  {
   "cell_type": "code",
   "execution_count": 5,
   "metadata": {},
   "outputs": [
    {
     "name": "stdout",
     "output_type": "stream",
     "text": [
      "[1, 100, 50, 500]\n",
      "[500, 100, 50, 1]\n"
     ]
    }
   ],
   "source": [
    "coin_list = [1, 100, 50, 500]\n",
    "print (coin_list)\n",
    "coin_list.sort(reverse=True)\n",
    "print (coin_list)"
   ]
  },
  {
   "cell_type": "code",
   "execution_count": 1,
   "metadata": {},
   "outputs": [
    {
     "name": "stdout",
     "output_type": "stream",
     "text": [
      "[-1, 0, 0, 2, 2, 4, 0, 6, 0, 8, 8, 10, 6]\n"
     ]
    },
    {
     "data": {
      "text/plain": [
       "{1: 0, 2: 0, 6: 2, 8: 0}"
      ]
     },
     "execution_count": 1,
     "metadata": {},
     "output_type": "execute_result"
    }
   ],
   "source": [
    "# DP Problem\n",
    "def min_coin(money,coin_data):\n",
    "    #coin_data.sort(reverse=True)\n",
    "    money_data=list()\n",
    "    coin_path=list()\n",
    "    money_data.append(0)\n",
    "    coin_path.append(-1)\n",
    "    for money_info in range(1,money+1):\n",
    "        money_data.append(0)\n",
    "        coin_path.append(0)\n",
    "        min_coin=money_data[money_info-coin_data[0]]\n",
    "        previous_coin=money_info-coin_data[0]\n",
    "        for coin in coin_data :\n",
    "            if money_info - coin >=0:\n",
    "                if min_coin>money_data[money_info-coin]:\n",
    "                    min_coin=money_data[money_info-coin]\n",
    "                    previous_coin=money_info-coin\n",
    "            else: \n",
    "                break\n",
    "        money_data[money_info]=min_coin+1\n",
    "        coin_path[money_info]=previous_coin\n",
    "    return money_data[money_info],coin_path\n",
    "\n",
    "def print_money_path(money,coin_data,coin_path):\n",
    "    money_count={item:0 for item in coin_data}\n",
    "    while money >0:\n",
    "        if coin_path[money-coin_path[money]]>=0:\n",
    "            money_count[money-coin_path[money]]+=1\n",
    "            money-=money-coin_path[money]\n",
    "    return money_count\n",
    "\n",
    "coin_data=[1,2,6,8]\n",
    "money=12\n",
    "min_coin,coin_path=min_coin(money,coin_data)\n",
    "print(coin_path)\n",
    "print_money_path(money,coin_data,coin_path)"
   ]
  },
  {
   "cell_type": "code",
   "execution_count": 69,
   "metadata": {},
   "outputs": [
    {
     "data": {
      "text/plain": [
       "(3, {8: 1, 6: 0, 2: 2, 1: 0})"
      ]
     },
     "execution_count": 69,
     "metadata": {},
     "output_type": "execute_result"
    }
   ],
   "source": [
    "def min_coin_path(money,coins):\n",
    "    coins.sort(reverse=True)\n",
    "    coin_data={}\n",
    "    min_coin=0\n",
    "    for coin in coins:\n",
    "        coin_required=money//coin\n",
    "        coin_data[coin]=coin_required\n",
    "        min_coin+=coin_required\n",
    "        money%=coin\n",
    "    return min_coin,coin_data\n",
    "min_coin_path(5000,[1,50,100,500]) \n",
    "min_coin_path(12,[1,2,6,8]) "
   ]
  },
  {
   "cell_type": "code",
   "execution_count": 17,
   "metadata": {},
   "outputs": [],
   "source": [
    "coin_list = [500, 100, 50, 1]\n",
    "\n",
    "def min_coin_count(value, coin_list):\n",
    "    total_coin_count = 0\n",
    "    details = list()\n",
    "    coin_list.sort(reverse=True)\n",
    "    for coin in coin_list:\n",
    "        coin_num = value // coin\n",
    "        total_coin_count += coin_num\n",
    "        value -= coin_num * coin\n",
    "        details.append([coin, coin_num])\n",
    "    return total_coin_count, details"
   ]
  },
  {
   "cell_type": "code",
   "execution_count": 18,
   "metadata": {},
   "outputs": [
    {
     "data": {
      "text/plain": [
       "(100, [[500, 100], [100, 0], [50, 0], [1, 0]])"
      ]
     },
     "execution_count": 18,
     "metadata": {},
     "output_type": "execute_result"
    }
   ],
   "source": [
    "min_coin_count(50000, coin_list)"
   ]
  },
  {
   "cell_type": "markdown",
   "metadata": {},
   "source": [
    "### 문제2: 부분 배낭 문제 (Fractional Knapsack Problem)\n",
    "  - 무게 제한이 k인 배낭에 최대 가치를 가지도록 물건을 넣는 문제\n",
    "    - 각 물건은 무게(w)와 가치(v)로 표현될 수 있음\n",
    "    - 물건은 쪼갤 수 있으므로 물건의 일부분이 배낭에 넣어질 수 있음, 그래서 Fractional Knapsack Problem 으로 부름\n",
    "      - Fractional Knapsack Problem 의 반대로 물건을 쪼개서 넣을 수 없는 배낭 문제도 존재함 (0/1 Knapsack Problem 으로 부름)\n",
    "    <img src=\"https://www.fun-coding.org/00_Images/knapsack.png\">"
   ]
  },
  {
   "cell_type": "code",
   "execution_count": 13,
   "metadata": {},
   "outputs": [],
   "source": [
    "data_list = [(10, 10), (15, 12), (20, 10), (25, 8), (30, 5)]"
   ]
  },
  {
   "cell_type": "code",
   "execution_count": 49,
   "metadata": {},
   "outputs": [
    {
     "data": {
      "text/plain": [
       "[{'item': (10, 10), 'percentage': 100},\n",
       " {'item': (15, 12), 'percentage': 100},\n",
       " {'item': (20, 10), 'percentage': 25.0}]"
      ]
     },
     "execution_count": 49,
     "metadata": {},
     "output_type": "execute_result"
    }
   ],
   "source": [
    "def get_max_priority(data_list,capacity):\n",
    "    data_list=sorted(data_list,key=lambda x: x[1]/x[0], reverse=True)\n",
    "    total_value=0\n",
    "    bag_items=list()\n",
    "    for item in data_list:\n",
    "        if capacity-item[0]>0:\n",
    "            total_value+=item[1]\n",
    "            capacity-=item[0]\n",
    "            bag_items.append({'item':item,'percentage':100})\n",
    "        else:\n",
    "            fraction=capacity/item[0]\n",
    "            total_value+=item[1]*fraction\n",
    "            bag_items.append({'item':item,'percentage':fraction*100})\n",
    "            break\n",
    "    return bag_items\n",
    "get_max_priority([(10, 10), (15, 12), (20, 10), (25, 8), (30, 5)],30)"
   ]
  },
  {
   "cell_type": "code",
   "execution_count": 19,
   "metadata": {},
   "outputs": [],
   "source": [
    "def get_max_value(data_list, capacity):\n",
    "    data_list = sorted(data_list, key=lambda x: x[1] / x[0], reverse=True)\n",
    "    total_value = 0\n",
    "    details = list()\n",
    "    \n",
    "    for data in data_list:\n",
    "        if capacity - data[0] >= 0:\n",
    "            capacity -= data[0]\n",
    "            total_value += data[1]\n",
    "            details.append([data[0], data[1], 1])\n",
    "        else:\n",
    "            fraction = capacity / data[0]\n",
    "            total_value += data[1] * fraction\n",
    "            details.append([data[0], data[1], fraction])\n",
    "            break\n",
    "    return total_value, details"
   ]
  },
  {
   "cell_type": "code",
   "execution_count": 20,
   "metadata": {},
   "outputs": [
    {
     "data": {
      "text/plain": [
       "(24.5, [[10, 10, 1], [15, 12, 1], [20, 10, 0.25]])"
      ]
     },
     "execution_count": 20,
     "metadata": {},
     "output_type": "execute_result"
    }
   ],
   "source": [
    "get_max_value(data_list, 30)"
   ]
  },
  {
   "cell_type": "markdown",
   "metadata": {},
   "source": [
    "### 3. 탐욕 알고리즘의 한계\n",
    "- 탐욕 알고리즘은 근사치 추정에 활용\n",
    "- 반드시 최적의 해를 구할 수 있는 것은 아니기 때문\n",
    "- 최적의 해에 가까운 값을 구하는 방법 중의 하나임\n",
    "\n",
    "### 예\n",
    "<img src=\"https://www.fun-coding.org/00_Images/greedy.png\" width=300>\n",
    "\n",
    "- '시작' 노드에서 시작해서 가장 작은 값을 찾아 leaf node 까지 가는 경로를 찾을 시에\n",
    "  - Greedy 알고리즘 적용시 시작 -> 7 -> 12 를 선택하게 되므로 7 + 12 = 19 가 됨 \n",
    "  - 하지만 실제 가장 작은 값은 시작 -> 10 -> 5 이며, 10 + 5 = 15 가 답"
   ]
  },
  {
   "cell_type": "code",
   "execution_count": null,
   "metadata": {},
   "outputs": [],
   "source": []
  }
 ],
 "metadata": {
  "kernelspec": {
   "display_name": "Python 3",
   "language": "python",
   "name": "python3"
  },
  "language_info": {
   "codemirror_mode": {
    "name": "ipython",
    "version": 3
   },
   "file_extension": ".py",
   "mimetype": "text/x-python",
   "name": "python",
   "nbconvert_exporter": "python",
   "pygments_lexer": "ipython3",
   "version": "3.7.4"
  },
  "nbTranslate": {
   "displayLangs": [
    "*"
   ],
   "hotkey": "alt-t",
   "langInMainMenu": true,
   "sourceLang": "en",
   "targetLang": "fr",
   "useGoogleTranslate": true
  }
 },
 "nbformat": 4,
 "nbformat_minor": 1
}
