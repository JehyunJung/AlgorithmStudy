{
 "cells": [
  {
   "cell_type": "markdown",
   "metadata": {},
   "source": [
    "# Comparing Sorting Algorithms\n",
    "\n",
    "## Sorting Lists\n",
    "- BubbleSort\n",
    "- InsertionSort\n",
    "- SelectionSort\n",
    "- QuickSort\n",
    "- MergeSort\n",
    "- Built_in Sorting"
   ]
  },
  {
   "cell_type": "code",
   "execution_count": 8,
   "metadata": {},
   "outputs": [],
   "source": [
    "import numpy as np\n",
    "import matplotlib.pyplot as plt\n",
    "import time"
   ]
  },
  {
   "cell_type": "code",
   "execution_count": 9,
   "metadata": {},
   "outputs": [],
   "source": [
    "def BubbleSort(data):\n",
    "    for i in range(len(data)-1):\n",
    "        swap=False\n",
    "        for j in range(len(data)-i-1):\n",
    "            if data[j]>data[j+1] :\n",
    "                data[j+1],data[j]=data[j],data[j+1]\n",
    "                swap=True\n",
    "        if swap==False:\n",
    "            break"
   ]
  },
  {
   "cell_type": "code",
   "execution_count": 10,
   "metadata": {},
   "outputs": [],
   "source": [
    "def InsertionSort(data):\n",
    "    for i in range(len(data)):\n",
    "        key=data[i]\n",
    "        j=i-1\n",
    "        while j>=0 : \n",
    "            if key<data[j]:\n",
    "                data[j+1]=data[j]\n",
    "                j-=1\n",
    "            else: \n",
    "                break\n",
    "        data[j+1]=key"
   ]
  },
  {
   "cell_type": "code",
   "execution_count": 27,
   "metadata": {},
   "outputs": [],
   "source": [
    "def SelectionSort(data):\n",
    "    for i in range(len(data)-1):\n",
    "        lowest=i\n",
    "        for j in range(i+1,len(data)):\n",
    "            if data[lowest]>data[j]:\n",
    "                lowest=j\n",
    "        data[lowest],data[i]=data[i],data[lowest]"
   ]
  },
  {
   "cell_type": "code",
   "execution_count": 31,
   "metadata": {},
   "outputs": [],
   "source": [
    "def partition(data,low,high):\n",
    "    if low<high:\n",
    "        key=data[low]\n",
    "        i=low\n",
    "        j=low+1\n",
    "        while j<=high:\n",
    "            if data[j]<key:\n",
    "                i+=1\n",
    "                data[j],data[i]=data[i],data[j]\n",
    "            j+=1\n",
    "        data[i],data[low]=data[low],data[i]\n",
    "        return i\n",
    "\n",
    "def quickSort(data,low,high):\n",
    "    if(low<high):\n",
    "        pivot=partition(data,low,high)\n",
    "        quickSort(data,low,pivot-1)\n",
    "        quickSort(data,pivot+1,high)"
   ]
  },
  {
   "cell_type": "code",
   "execution_count": 33,
   "metadata": {},
   "outputs": [
    {
     "data": {
      "image/png": "[encoded data removed]",
      "text/plain": [
       "<Figure size 432x288 with 1 Axes>"
      ]
     },
     "metadata": {
      "needs_background": "light"
     },
     "output_type": "display_data"
    }
   ],
   "source": [
    "X_range=[5,10,100,500,1000,2000]\n",
    "def TimeComplexity(X_range,Sorting):\n",
    "    times=[]\n",
    "    for i in X_range:\n",
    "        np.random.seed(i)\n",
    "        data= np.random.randint(0,1000,size=i)\n",
    "        start=time.time()\n",
    "        if Sorting == None:\n",
    "            data.sort()\n",
    "        elif Sorting== quickSort:\n",
    "            quickSort(data,0,len(data)-1)\n",
    "                \n",
    "        else:\n",
    "            Sorting(data)\n",
    "        times.append(time.time()-start)\n",
    "    return times\n",
    "\n",
    "plt.plot(X_range,TimeComplexity(X_range,BubbleSort),label=\"BubbleSort\")\n",
    "plt.plot(X_range,TimeComplexity(X_range,InsertionSort),label=\"InsertionSort\")\n",
    "plt.plot(X_range,TimeComplexity(X_range,SelectionSort),label=\"SelectionSort\")\n",
    "plt.plot(X_range,TimeComplexity(X_range,quickSort),label=\"QuickSort\")\n",
    "plt.plot(X_range,TimeComplexity(X_range,None),label=\"Builtin_Sort\")\n",
    "plt.xlabel('data count')\n",
    "plt.ylabel('time(second)')\n",
    "plt.legend()\n",
    "plt.show()"
   ]
  }
 ],
 "metadata": {
  "kernelspec": {
   "display_name": "Python 3",
   "language": "python",
   "name": "python3"
  },
  "language_info": {
   "codemirror_mode": {
    "name": "ipython",
    "version": 3
   },
   "file_extension": ".py",
   "mimetype": "text/x-python",
   "name": "python",
   "nbconvert_exporter": "python",
   "pygments_lexer": "ipython3",
   "version": "3.7.4"
  }
 },
 "nbformat": 4,
 "nbformat_minor": 2
}
